{
 "cells": [
  {
   "cell_type": "markdown",
   "id": "b6c861f8",
   "metadata": {},
   "source": [
    "### Credit : Thomas MARÇAL - Student at ESILV, La Défense"
   ]
  },
  {
   "cell_type": "markdown",
   "id": "92cb61b3",
   "metadata": {},
   "source": [
    "# "
   ]
  },
  {
   "cell_type": "markdown",
   "id": "07a9aa8b",
   "metadata": {},
   "source": [
    "#### Quelques informations sur le format pgn utilisé par Lichess ou Chess.com :"
   ]
  },
  {
   "cell_type": "raw",
   "id": "9c0a4145",
   "metadata": {},
   "source": [
    "https://www.iechecs.com/notation.htm"
   ]
  },
  {
   "cell_type": "markdown",
   "id": "10922893",
   "metadata": {},
   "source": [
    "# "
   ]
  },
  {
   "cell_type": "raw",
   "id": "21776b54",
   "metadata": {},
   "source": [
    "___________________________________________________________________________________________________________________________"
   ]
  },
  {
   "cell_type": "markdown",
   "id": "fb85c9c7",
   "metadata": {},
   "source": [
    "# Communication code with the Lichess API"
   ]
  },
  {
   "cell_type": "raw",
   "id": "141d313e",
   "metadata": {},
   "source": [
    "___________________________________________________________________________________________________________________________"
   ]
  },
  {
   "cell_type": "markdown",
   "id": "5edf6af9",
   "metadata": {},
   "source": [
    "# "
   ]
  },
  {
   "cell_type": "markdown",
   "id": "c3f65c2e",
   "metadata": {},
   "source": [
    "## - Install & Import library"
   ]
  },
  {
   "cell_type": "markdown",
   "id": "b77064aa",
   "metadata": {},
   "source": [
    "#### In Python, there are libraries that allow full communication with the Lichess API, as well as general purpose libraries that make coding easier. By using these libraries, you can simplify the process of working with the API and reduce the amount of code you need to write, saving you time and effort."
   ]
  },
  {
   "cell_type": "markdown",
   "id": "c990c2be",
   "metadata": {},
   "source": [
    "# "
   ]
  },
  {
   "cell_type": "code",
   "execution_count": 1,
   "id": "e0863cf4",
   "metadata": {
    "scrolled": true
   },
   "outputs": [
    {
     "name": "stdout",
     "output_type": "stream",
     "text": [
      "Requirement already satisfied: python-lichess in c:\\users\\thoma\\anaconda3\\lib\\site-packages (0.10)\n",
      "Requirement already satisfied: six in c:\\users\\thoma\\anaconda3\\lib\\site-packages (from python-lichess) (1.16.0)\n",
      "Requirement already satisfied: requests in c:\\users\\thoma\\anaconda3\\lib\\site-packages (from python-lichess) (2.28.1)\n",
      "Requirement already satisfied: urllib3<1.27,>=1.21.1 in c:\\users\\thoma\\anaconda3\\lib\\site-packages (from requests->python-lichess) (1.26.11)\n",
      "Requirement already satisfied: idna<4,>=2.5 in c:\\users\\thoma\\anaconda3\\lib\\site-packages (from requests->python-lichess) (3.3)\n",
      "Requirement already satisfied: charset-normalizer<3,>=2 in c:\\users\\thoma\\anaconda3\\lib\\site-packages (from requests->python-lichess) (2.0.4)\n",
      "Requirement already satisfied: certifi>=2017.4.17 in c:\\users\\thoma\\anaconda3\\lib\\site-packages (from requests->python-lichess) (2022.9.14)\n"
     ]
    }
   ],
   "source": [
    "!pip install python-lichess"
   ]
  },
  {
   "cell_type": "code",
   "execution_count": 2,
   "id": "91bc5850",
   "metadata": {},
   "outputs": [
    {
     "name": "stdout",
     "output_type": "stream",
     "text": [
      "Requirement already satisfied: python-chess in c:\\users\\thoma\\anaconda3\\lib\\site-packages (1.999)\n",
      "Requirement already satisfied: chess<2,>=1 in c:\\users\\thoma\\anaconda3\\lib\\site-packages (from python-chess) (1.9.4)\n"
     ]
    }
   ],
   "source": [
    "!pip install python-chess"
   ]
  },
  {
   "cell_type": "code",
   "execution_count": 3,
   "id": "ff4fe2d1",
   "metadata": {},
   "outputs": [
    {
     "name": "stdout",
     "output_type": "stream",
     "text": [
      "Requirement already satisfied: pySerial in c:\\users\\thoma\\anaconda3\\lib\\site-packages (3.5)\n"
     ]
    }
   ],
   "source": [
    "!pip install pySerial"
   ]
  },
  {
   "cell_type": "code",
   "execution_count": 4,
   "id": "f6857b01",
   "metadata": {},
   "outputs": [
    {
     "name": "stdout",
     "output_type": "stream",
     "text": [
      "Requirement already satisfied: berserk in c:\\users\\thoma\\anaconda3\\lib\\site-packages (0.10.0)\n",
      "Requirement already satisfied: ndjson~=0.2 in c:\\users\\thoma\\anaconda3\\lib\\site-packages (from berserk) (0.3.1)\n",
      "Requirement already satisfied: requests~=2.20 in c:\\users\\thoma\\anaconda3\\lib\\site-packages (from berserk) (2.28.1)\n",
      "Requirement already satisfied: deprecated~=1.2.7 in c:\\users\\thoma\\anaconda3\\lib\\site-packages (from berserk) (1.2.13)\n",
      "Requirement already satisfied: wrapt<2,>=1.10 in c:\\users\\thoma\\anaconda3\\lib\\site-packages (from deprecated~=1.2.7->berserk) (1.14.1)\n",
      "Requirement already satisfied: idna<4,>=2.5 in c:\\users\\thoma\\anaconda3\\lib\\site-packages (from requests~=2.20->berserk) (3.3)\n",
      "Requirement already satisfied: charset-normalizer<3,>=2 in c:\\users\\thoma\\anaconda3\\lib\\site-packages (from requests~=2.20->berserk) (2.0.4)\n",
      "Requirement already satisfied: certifi>=2017.4.17 in c:\\users\\thoma\\anaconda3\\lib\\site-packages (from requests~=2.20->berserk) (2022.9.14)\n",
      "Requirement already satisfied: urllib3<1.27,>=1.21.1 in c:\\users\\thoma\\anaconda3\\lib\\site-packages (from requests~=2.20->berserk) (1.26.11)\n"
     ]
    }
   ],
   "source": [
    "!pip install berserk"
   ]
  },
  {
   "cell_type": "code",
   "execution_count": 5,
   "id": "8a4c2ec9",
   "metadata": {},
   "outputs": [],
   "source": [
    "import lichess.api"
   ]
  },
  {
   "cell_type": "code",
   "execution_count": 6,
   "id": "46df3493",
   "metadata": {},
   "outputs": [],
   "source": [
    "import berserk"
   ]
  },
  {
   "cell_type": "code",
   "execution_count": 7,
   "id": "9bb25bd2",
   "metadata": {},
   "outputs": [],
   "source": [
    "import requests"
   ]
  },
  {
   "cell_type": "code",
   "execution_count": 8,
   "id": "47ea29f0",
   "metadata": {},
   "outputs": [],
   "source": [
    "import time"
   ]
  },
  {
   "cell_type": "code",
   "execution_count": 9,
   "id": "fddeac65",
   "metadata": {},
   "outputs": [],
   "source": [
    "import re\n",
    "# La fonction re.sub() de la bibliothèque re permet de remplacer toutes les occurrences d'un motif de recherche par une chaîne de remplacement. Dans ce cas, le motif de recherche est \"\\{.*?\\}\", qui correspond à toute chaîne de caractères qui commence par { et se termine par }. La chaîne de remplacement est simplement une chaîne vide, \"\", ce qui permet de supprimer ces parties de la chaîne d'origine."
   ]
  },
  {
   "cell_type": "code",
   "execution_count": 10,
   "id": "c1aa837d",
   "metadata": {},
   "outputs": [],
   "source": [
    "import webbrowser"
   ]
  },
  {
   "cell_type": "code",
   "execution_count": 11,
   "id": "c5fddc7d",
   "metadata": {},
   "outputs": [],
   "source": [
    "import serial"
   ]
  },
  {
   "cell_type": "markdown",
   "id": "5f0b0693",
   "metadata": {},
   "source": [
    "# "
   ]
  },
  {
   "cell_type": "markdown",
   "id": "6e1ee42b",
   "metadata": {},
   "source": [
    "## - TOKEN Lichess "
   ]
  },
  {
   "cell_type": "markdown",
   "id": "e5262cd7",
   "metadata": {},
   "source": [
    "#### This is the login token that allows you to access Lichess using an account you have created on the site. This token is a unique string of characters that allows you to authenticate to the Lichess API and perform operations authorized by your account. It is important to keep this token safe and only share it with people you trust, as it provides access to your Lichess account."
   ]
  },
  {
   "cell_type": "markdown",
   "id": "a44952cd",
   "metadata": {},
   "source": [
    "# "
   ]
  },
  {
   "cell_type": "code",
   "execution_count": 12,
   "id": "8e068298",
   "metadata": {},
   "outputs": [],
   "source": [
    "token = \"lip_09gpe64RAdOHUTBN0CmK\"\n",
    "session = berserk.TokenSession(token)\n",
    "client = berserk.Client(session=session)"
   ]
  },
  {
   "cell_type": "raw",
   "id": "a9bdb87d",
   "metadata": {},
   "source": [
    "client.account.get()"
   ]
  },
  {
   "cell_type": "markdown",
   "id": "7d9bcf29",
   "metadata": {},
   "source": [
    "# "
   ]
  },
  {
   "cell_type": "markdown",
   "id": "e3da7f94",
   "metadata": {},
   "source": [
    "## - Board "
   ]
  },
  {
   "cell_type": "markdown",
   "id": "a81b2951",
   "metadata": {},
   "source": [
    "#### One option for ensuring the preservation of the Lichess game board for future work on this project is to create a copy of the game board. This would provide a backup version that can be used for recovery in the event of loss or damage. In addition, a copy can be useful for testing, simulations, or comparisons with new versions or updates."
   ]
  },
  {
   "cell_type": "markdown",
   "id": "7e21cb28",
   "metadata": {},
   "source": [
    "# "
   ]
  },
  {
   "cell_type": "code",
   "execution_count": 13,
   "id": "9d8ec73d",
   "metadata": {},
   "outputs": [],
   "source": [
    "DisplayBoard = [    [\"R1\", \"N1\", \"B1\", \"Q\", \"K\", \"B2\", \"N2\", \"R2\"],\n",
    "    [\"P1\", \"P2\", \"P3\", \"P4\", \"P5\", \"P6\", \"P7\", \"P8\"],\n",
    "    [\" \", \" \", \" \", \" \", \" \", \" \", \" \", \" \"],\n",
    "    [\" \", \" \", \" \", \" \", \" \", \" \", \" \", \" \"],\n",
    "    [\" \", \" \", \" \", \" \", \" \", \" \", \" \", \" \"],\n",
    "    [\" \", \" \", \" \", \" \", \" \", \" \", \" \", \" \"],\n",
    "    [\"p1\", \"p2\", \"p3\", \"p4\", \"p5\", \"p6\", \"p7\", \"p8\"],\n",
    "    [\"r1\", \"n1\", \"b1\", \"q\", \"k\", \"b2\", \"n2\", \"r2\"]\n",
    "]\n",
    "# Création du plateau du début"
   ]
  },
  {
   "cell_type": "code",
   "execution_count": 14,
   "id": "cad4ee4e",
   "metadata": {},
   "outputs": [],
   "source": [
    "ligne = [\"1\",\"2\",\"3\",\"4\",\"5\",\"6\",\"7\",\"8\"]\n",
    "colonne = ['a','b','c','d','e','f','g','h']\n",
    "# Initialisation des lignes et colonnes pour plus tard"
   ]
  },
  {
   "cell_type": "code",
   "execution_count": 15,
   "id": "8be1a01c",
   "metadata": {},
   "outputs": [],
   "source": [
    "def display_board(board):\n",
    "    print(\"  A  B  C  D  E  F  G  H\")\n",
    "    for i, row in enumerate(board):\n",
    "        print(8-i, end=\" \")\n",
    "        for square in row:\n",
    "            if (len(square) == 2) :\n",
    "                print(square, end=\" \")\n",
    "            else :\n",
    "                print(square, end=\"  \")\n",
    "        print()\n",
    "    print(\"  A  B  C  D  E  F  G  H\")\n",
    "# Code pour afficher le tableau"
   ]
  },
  {
   "cell_type": "code",
   "execution_count": 16,
   "id": "38510c0d",
   "metadata": {},
   "outputs": [
    {
     "name": "stdout",
     "output_type": "stream",
     "text": [
      "  A  B  C  D  E  F  G  H\n",
      "8 R1 N1 B1 Q  K  B2 N2 R2 \n",
      "7 P1 P2 P3 P4 P5 P6 P7 P8 \n",
      "6                         \n",
      "5                         \n",
      "4                         \n",
      "3                         \n",
      "2 p1 p2 p3 p4 p5 p6 p7 p8 \n",
      "1 r1 n1 b1 q  k  b2 n2 r2 \n",
      "  A  B  C  D  E  F  G  H\n"
     ]
    }
   ],
   "source": [
    "display_board(DisplayBoard)"
   ]
  },
  {
   "cell_type": "markdown",
   "id": "d2cf530f",
   "metadata": {},
   "source": [
    "# "
   ]
  },
  {
   "cell_type": "markdown",
   "id": "ac441ec2",
   "metadata": {},
   "source": [
    "## - Creation of a game against AI"
   ]
  },
  {
   "cell_type": "markdown",
   "id": "1cd90438",
   "metadata": {},
   "source": [
    "# "
   ]
  },
  {
   "cell_type": "raw",
   "id": "458f2be2",
   "metadata": {},
   "source": [
    "id_game = client.challenges.create_ai(level=1, clock_limit=None, clock_increment=None, days=None, color=\"black\", variant=None, position=None)['id'] \n",
    "# Création d'une game contre l'IA"
   ]
  },
  {
   "cell_type": "markdown",
   "id": "f23ba35f",
   "metadata": {},
   "source": [
    "# "
   ]
  },
  {
   "cell_type": "code",
   "execution_count": 17,
   "id": "0252fb04",
   "metadata": {},
   "outputs": [],
   "source": [
    "def IA_Level():\n",
    "    while True:\n",
    "        input_ia = int(input(\"Saisir le niveau de difficulté de l'IA (1 à 8) : \"))\n",
    "        if input_ia < 1 or input_ia > 8:\n",
    "            print(\"Erreur : la valeur doit être comprise entre 1 et 8.\")\n",
    "        else:\n",
    "            print(f\"\\nIA de difficulté {input_ia}/8.\\n\")\n",
    "            return input_ia\n",
    "# Code pour choisir le niveau de sécurité# "
   ]
  },
  {
   "cell_type": "raw",
   "id": "2681aff6",
   "metadata": {},
   "source": [
    "ia_level = IA_Level()\n",
    "type(ia_level)"
   ]
  },
  {
   "cell_type": "markdown",
   "id": "4ef8897a",
   "metadata": {},
   "source": [
    "# "
   ]
  },
  {
   "cell_type": "code",
   "execution_count": 18,
   "id": "13d4795e",
   "metadata": {},
   "outputs": [],
   "source": [
    "def ColorPlayer():\n",
    "    while True:\n",
    "        color_player = input(\"Saisir la couleur du joueur (white or black): \")\n",
    "        if color_player.lower() not in [\"white\", \"black\"]:\n",
    "            print(\"Erreur : la couleur doit être white ou black.\")\n",
    "        else:\n",
    "            print(f\"\\nVous avez choisi la couleur : {color_player}.\\n\")\n",
    "            return color_player.lower()\n",
    "# Code pour choisir la couleur que l'on souhaite# "
   ]
  },
  {
   "cell_type": "raw",
   "id": "a0c5d726",
   "metadata": {},
   "source": [
    "color_player = ColorPlayer()\n",
    "type(color_player)"
   ]
  },
  {
   "cell_type": "markdown",
   "id": "3900db3a",
   "metadata": {},
   "source": [
    "# "
   ]
  },
  {
   "cell_type": "code",
   "execution_count": 19,
   "id": "97b799ea",
   "metadata": {},
   "outputs": [],
   "source": [
    "def CreateIA() :\n",
    "    ia_level = IA_Level()\n",
    "    color_player = ColorPlayer()\n",
    "    try :\n",
    "        print(\"Création de la game contre l'IA\")\n",
    "        id_game = client.challenges.create_ai(level=ia_level, clock_limit=None, clock_increment=None, days=None, color=color_player, variant=None, position=None)['id']\n",
    "        if (color_player == \"white\"):\n",
    "            color_enemy = \"black\"\n",
    "        else :\n",
    "            color_enemy = \"white\"\n",
    "        url = f'https://lichess.org/{id_game}'\n",
    "        webbrowser.open(url)\n",
    "        return id_game, color_player, color_enemy\n",
    "    except :\n",
    "        print(\"Error\")\n",
    "        CreateIA()\n",
    "# Création de la game contre l'IA# "
   ]
  },
  {
   "cell_type": "markdown",
   "id": "675300a6",
   "metadata": {},
   "source": [
    "# "
   ]
  },
  {
   "cell_type": "markdown",
   "id": "f40902f6",
   "metadata": {},
   "source": [
    "## - Obtaining the movements"
   ]
  },
  {
   "cell_type": "markdown",
   "id": "6680da8d",
   "metadata": {},
   "source": [
    "# "
   ]
  },
  {
   "cell_type": "code",
   "execution_count": 20,
   "id": "4e683c41",
   "metadata": {},
   "outputs": [],
   "source": [
    "def LiveMove(game_id):\n",
    "    response = requests.get(f'https://lichess.org/{game_id}')\n",
    "    PGN = response.text\n",
    "    PGN_String = str(PGN)\n",
    "    start = PGN_String.find(\"1. \")\n",
    "    substring = PGN_String[start:]\n",
    "    PGN_String = substring\n",
    "    moves = PGN_String.split(\"</div>\")[0]\n",
    "    moves = re.sub(r\"\\{.*?\\}\", \"\", moves)\n",
    "    return moves\n",
    "# Fonction pour obtenir les mouvements en direct de la partie"
   ]
  },
  {
   "cell_type": "raw",
   "id": "7d2ad5f5",
   "metadata": {},
   "source": [
    "# Exemple d'utilisation de la fonction\n",
    "#id_game = \"pdYClRba\"\n",
    "id_game = \"ZgnhQZS9\"\n",
    "ListMove = LiveMove(id_game)\n",
    "print(ListMove)"
   ]
  },
  {
   "cell_type": "markdown",
   "id": "47f97513",
   "metadata": {},
   "source": [
    "# "
   ]
  },
  {
   "cell_type": "markdown",
   "id": "ab68e6a6",
   "metadata": {},
   "source": [
    "## - Code to input the player's movement via the PC keyboard"
   ]
  },
  {
   "cell_type": "markdown",
   "id": "6d6ebdf1",
   "metadata": {},
   "source": [
    "# "
   ]
  },
  {
   "cell_type": "code",
   "execution_count": 21,
   "id": "0cced546",
   "metadata": {},
   "outputs": [],
   "source": [
    "def InputPos():\n",
    "    while True:\n",
    "        move = input(\"Saisir la position du mouvement (ex: e2e4 ou g8f6) : \")\n",
    "        if len(move) not in [4, 5]:\n",
    "            print(\"Erreur : le mouvement doit comporter 4 ou 5 caractères.\")\n",
    "        elif not move[0].isalpha() or not move[2].isalpha():\n",
    "            print(\"Erreur : les caractères 1 et 3 doivent être des lettres.\")\n",
    "        elif not move[1].isdigit() or not move[3].isdigit():\n",
    "            print(\"Erreur : les caractères 2 et 4 doivent être des chiffres.\")\n",
    "        elif len(move) == 5 and not move[4].isalpha():\n",
    "            print(\"Erreur : le dernier caractère doit être une lettre.\")\n",
    "        else:\n",
    "            return move.lower()\n",
    "# Permet de vérifier si la position écrite correpond bien au format voulue (ex : h2c6)"
   ]
  },
  {
   "cell_type": "markdown",
   "id": "49eac082",
   "metadata": {},
   "source": [
    "# "
   ]
  },
  {
   "cell_type": "code",
   "execution_count": 22,
   "id": "2da52a42",
   "metadata": {},
   "outputs": [],
   "source": [
    "def InputMove(id_game, board, color_player):\n",
    "    input_move = InputPos()\n",
    "    finalmove = ''\n",
    "    print(\"\\n\")\n",
    "    try:\n",
    "        if (color_player == \"white\") :\n",
    "            # Petit roque\n",
    "            if input_move == \"e1h1\" and board[0][4] == \"K\" and board[0][7] == \"R2\" and board[0][5] == ' ' and board[0][6] == ' ':\n",
    "                board[0][4] = \" \"\n",
    "                board[0][7] = \" \"\n",
    "                board[0][6] = \"K\"\n",
    "                board[0][5] = \"R2\"\n",
    "                finalmove = \"h1f1 e1g1\"\n",
    "                client.bots.make_move(id_game, input_move)\n",
    "                return finalmove, board\n",
    "            # Grand roque\n",
    "            elif input_move == \"e1a1\" and board[0][4] == \"K\" and board[0][0] == \"R1\" and board[0][1] == ' ' and board[0][2] == ' ' and board[0][3] == ' ':    \n",
    "                board[0][0] = \" \"\n",
    "                board[0][4] = \" \"\n",
    "                board[0][3] = \"R2\"\n",
    "                board[0][2] = \"K\"\n",
    "                finalmove = \"a1d1 e1c1\"\n",
    "                client.bots.make_move(id_game, input_move)\n",
    "                return finalmove, board\n",
    "            elif (input_move[1] == \"7\" and input_move[3] == \"8\") :\n",
    "                move = input_move[2:]\n",
    "                previousmove = input_move[:2]\n",
    "                if (board[ligne.index(previousmove[1])][colonne.index(previousmove[0])][0] == \"P\") :\n",
    "                    input_piece = input(\"=> Saisir la nouvelle valeur de la pièce (N : Knight, B : Bishop, Q : Queen, R : Rook) : \")\n",
    "                    input_move = input_move + input_piece.lower()\n",
    "                    client.bots.make_move(id_game, input_move)  \n",
    "                    board[ligne.index(move[1])][colonne.index(move[0])] = input_piece\n",
    "                    board[ligne.index(previousmove[1])][colonne.index(previousmove[0])] = ' '\n",
    "                    return finalmove, board\n",
    "                else :\n",
    "                    client.bots.make_move(id_game, input_move)\n",
    "                    move = input_move[2:]\n",
    "                    previousmove = input_move[:2]\n",
    "                    # Si un pion est mangé ou non \n",
    "                    if board[ligne.index(move[1])][colonne.index(move[0])] != ' ':\n",
    "                        finalmove = move + \"stock \" + input_move\n",
    "                    else:\n",
    "                        finalmove = input_move\n",
    "                    # Définition du plateau\n",
    "                    lastboard = board\n",
    "                    board[ligne.index(move[1])][colonne.index(move[0])] = lastboard[ligne.index(previousmove[1])][colonne.index(previousmove[0])]\n",
    "                    board[ligne.index(previousmove[1])][colonne.index(previousmove[0])] = ' '\n",
    "                    return finalmove, board\n",
    "            else:\n",
    "                client.bots.make_move(id_game, input_move)\n",
    "                move = input_move[2:]\n",
    "                previousmove = input_move[:2]\n",
    "                # Si un pion est mangé ou non \n",
    "                if board[ligne.index(move[1])][colonne.index(move[0])] != ' ':\n",
    "                    finalmove = move + \"stock \" + input_move\n",
    "                else:\n",
    "                    finalmove = input_move\n",
    "                # Définition du plateau\n",
    "                lastboard = board\n",
    "                board[ligne.index(move[1])][colonne.index(move[0])] = lastboard[ligne.index(previousmove[1])][colonne.index(previousmove[0])]\n",
    "                board[ligne.index(previousmove[1])][colonne.index(previousmove[0])] = ' '\n",
    "                return finalmove, board\n",
    "        elif (color_player == \"black\") :\n",
    "            # Petit roque\n",
    "            if input_move == \"e8h8\" and board[7][4] == \"K\" and board[7][7] == \"R2\" and board[7][5] == ' ' and board[7][6] == ' ':\n",
    "                board[7][4] = \" \"\n",
    "                board[7][7] = \" \"\n",
    "                board[7][6] = \"K\"\n",
    "                board[7][5] = \"R2\"\n",
    "                finalmove = \"h8f8 e8g8\"\n",
    "                client.bots.make_move(id_game, input_move)\n",
    "                return finalmove, board\n",
    "            # Grand roque\n",
    "            elif input_move == \"e1a1\" and board[7][4] == \"K\" and board[7][0] == \"R1\" and board[7][1] == ' ' and board[7][2] == ' ' and board[7][3] == ' ':    \n",
    "                board[7][0] = \" \"\n",
    "                board[7][4] = \" \"\n",
    "                board[7][3] = \"R2\"\n",
    "                board[7][2] = \"K\"\n",
    "                finalmove = \"a8d8 e8c8\"\n",
    "                client.bots.make_move(id_game, input_move)\n",
    "                return finalmove, board\n",
    "            elif (input_move[1] == \"2\" and input_move[3] == \"1\") :\n",
    "                move = input_move[2:]\n",
    "                previousmove = input_move[:2]\n",
    "                if (board[ligne.index(previousmove[1])][colonne.index(previousmove[0])][0] == \"p\") :\n",
    "                    input_piece = input(\"=> Saisir la nouvelle valeur de la pièce (n : Knight, b : Bishop, q : Queen, r : Rook) : \")\n",
    "                    input_move = move + \"=\" + input_piece\n",
    "                    client.bots.make_move(id_game, input_move)  \n",
    "                    board[ligne.index(move[1])][colonne.index(move[0])] = input_piece\n",
    "                    board[ligne.index(previousmove[1])][colonne.index(previousmove[0])] = ' '\n",
    "                    return finalmove, board\n",
    "                else :\n",
    "                    client.bots.make_move(id_game, input_move)\n",
    "                    move = input_move[2:]\n",
    "                    previousmove = input_move[:2]\n",
    "                    # Si un pion est mangé ou non \n",
    "                    if board[ligne.index(move[1])][colonne.index(move[0])] != ' ':\n",
    "                        finalmove = move + \"stock \" + input_move\n",
    "                    else:\n",
    "                        finalmove = input_move\n",
    "                    # Définition du plateau\n",
    "                    lastboard = board\n",
    "                    board[ligne.index(move[1])][colonne.index(move[0])] = lastboard[ligne.index(previousmove[1])][colonne.index(previousmove[0])]\n",
    "                    board[ligne.index(previousmove[1])][colonne.index(previousmove[0])] = ' '\n",
    "                    return finalmove, board\n",
    "            else:\n",
    "                client.bots.make_move(id_game, input_move)\n",
    "                move = input_move[2:]\n",
    "                previousmove = input_move[:2]\n",
    "                # Si un pion est mangé ou non \n",
    "                if board[ligne.index(move[1])][colonne.index(move[0])] != ' ':\n",
    "                    finalmove = move + \"stock \" + input_move\n",
    "                else:\n",
    "                    finalmove = input_move\n",
    "                # Définition du plateau\n",
    "                lastboard = board\n",
    "                board[ligne.index(move[1])][colonne.index(move[0])] = lastboard[ligne.index(previousmove[1])][colonne.index(previousmove[0])]\n",
    "                board[ligne.index(previousmove[1])][colonne.index(previousmove[0])] = ' '\n",
    "                return finalmove, board\n",
    "    except:\n",
    "        print(\"\\nErreur position\")\n",
    "        input_move = InputMove(id_game, board)\n",
    "    \n",
    "    return finalmove, board\n",
    "\n",
    "# Code qui permet d'envoyer le mouvement à Lichess + permet de modifier le board de sauvegarde qui est la copie de celui de Lichess"
   ]
  },
  {
   "cell_type": "markdown",
   "id": "60944e93",
   "metadata": {},
   "source": [
    "# "
   ]
  },
  {
   "cell_type": "markdown",
   "id": "c13f673a",
   "metadata": {},
   "source": [
    "## - Code to obtain the set of positions in relation to the final position"
   ]
  },
  {
   "cell_type": "markdown",
   "id": "223cdeb9",
   "metadata": {},
   "source": [
    "# "
   ]
  },
  {
   "cell_type": "code",
   "execution_count": 23,
   "id": "0bb47da2",
   "metadata": {},
   "outputs": [],
   "source": [
    "def possible_moves(piece, current_position, color_player):\n",
    "    row, col = current_position\n",
    "    if (row >= 0 and row <= 7 and col >= 0 and col <= 7) :\n",
    "        possible_positions = []\n",
    "        if piece == 'pawn':\n",
    "            if (color_player == \"white\") :\n",
    "                if (row == 3) :\n",
    "                    possible_positions.append((row - 1, col))\n",
    "                    possible_positions.append((row - 2, col))\n",
    "                else:\n",
    "                    possible_positions.append((row - 1, col))\n",
    "                possible_positions.append((row - 1, col+1))\n",
    "                possible_positions.append((row - 1, col-1))\n",
    "            else :\n",
    "                if (row == 4) :\n",
    "                    possible_positions.append((row + 1, col))\n",
    "                    possible_positions.append((row + 2, col))\n",
    "                else:\n",
    "                    possible_positions.append((row + 1, col))\n",
    "                possible_positions.append((row + 1, col+1))\n",
    "                possible_positions.append((row + 1, col-1))\n",
    "                \n",
    "        elif piece == 'knight':\n",
    "            possible_positions.append((row + 2, col + 1))\n",
    "            possible_positions.append((row + 2, col - 1))\n",
    "            possible_positions.append((row - 2, col + 1))\n",
    "            possible_positions.append((row - 2, col - 1))\n",
    "            possible_positions.append((row + 1, col + 2))\n",
    "            possible_positions.append((row + 1, col - 2))\n",
    "            possible_positions.append((row - 1, col + 2))\n",
    "            possible_positions.append((row - 1, col - 2))\n",
    "        elif piece == 'bishop':\n",
    "            for i in range(1, 8):\n",
    "                possible_positions.append((row + i, col + i))\n",
    "                possible_positions.append((row - i, col - i))\n",
    "                possible_positions.append((row + i, col - i))\n",
    "                possible_positions.append((row - i, col + i))\n",
    "        elif piece == 'rook':\n",
    "            for i in range(1, 8):\n",
    "                possible_positions.append((row, col + i))\n",
    "                possible_positions.append((row, col - i))\n",
    "                possible_positions.append((row + i, col))\n",
    "                possible_positions.append((row - i, col))\n",
    "        elif piece == 'queen':\n",
    "            for i in range(1, 8):\n",
    "                possible_positions.append((row, col + i))\n",
    "                possible_positions.append((row, col - i))\n",
    "                possible_positions.append((row + i, col))\n",
    "                possible_positions.append((row - i, col))\n",
    "                possible_positions.append((row + i, col + i))\n",
    "                possible_positions.append((row - i, col - i))\n",
    "                possible_positions.append((row + i, col - i))\n",
    "                possible_positions.append((row - i, col + i))\n",
    "        elif piece == 'king':\n",
    "            possible_positions.append((row, col + 1))\n",
    "            possible_positions.append((row, col - 1))\n",
    "            possible_positions.append((row + 1, col))\n",
    "            possible_positions.append((row - 1, col))\n",
    "            possible_positions.append((row + 1, col + 1))\n",
    "            possible_positions.append((row - 1, col - 1))\n",
    "            possible_positions.append((row + 1, col - 1))\n",
    "            possible_positions.append((row - 1, col + 1))\n",
    "    \n",
    "        \n",
    "        return [pos for pos in possible_positions if all(0 <= coord <= 7 for coord in pos)]\n",
    "\n",
    "    else : \n",
    "        return 'Error'"
   ]
  },
  {
   "cell_type": "code",
   "execution_count": 24,
   "id": "dd7b1df2",
   "metadata": {},
   "outputs": [],
   "source": [
    "def ConversionMouv(positions):    \n",
    "    positionfinal = []\n",
    "    for i in range(len(positions)):\n",
    "        positionfinal.append(str(colonne[positions[i][1]]) + str(ligne[positions[i][0]]))\n",
    "    return positionfinal\n",
    "# Converion en chiffre et lettre des positions"
   ]
  },
  {
   "cell_type": "markdown",
   "id": "427a1852",
   "metadata": {},
   "source": [
    "# "
   ]
  },
  {
   "cell_type": "markdown",
   "id": "687872b3",
   "metadata": {},
   "source": [
    "## - Gets the last movement in the list of movements obtained via the LiveMove() code performed later"
   ]
  },
  {
   "cell_type": "markdown",
   "id": "53044acb",
   "metadata": {},
   "source": [
    "# "
   ]
  },
  {
   "cell_type": "code",
   "execution_count": 25,
   "id": "77d7e97b",
   "metadata": {},
   "outputs": [],
   "source": [
    "def MouvEnnemy(tour, color, ListMove):\n",
    "    if (color == \"white\") :\n",
    "        Sep_LastMove = str(tour) +\". \"\n",
    "        StartLastMove = ListMove.find(Sep_LastMove)\n",
    "        SubstringLastMove = ListMove[StartLastMove + len(Sep_LastMove):]\n",
    "        moves = SubstringLastMove.split(\" *\")[0]\n",
    "        moves = moves.split(\" \")\n",
    "        moves = moves[1]\n",
    "        moves = moves.replace(\" \", \"\")\n",
    "        return moves\n",
    "    else :\n",
    "        Sep_LastMove = str(tour) +\". \"\n",
    "        StartLastMove = ListMove.find(Sep_LastMove)\n",
    "        SubstringLastMove = ListMove[StartLastMove:]\n",
    "        moves = SubstringLastMove.split(\" *\")[0]\n",
    "        moves = moves.split(\" \")\n",
    "        moves = moves[1] \n",
    "        moves = moves.replace(\" \", \"\")\n",
    "        return moves"
   ]
  },
  {
   "cell_type": "markdown",
   "id": "307ac859",
   "metadata": {},
   "source": [
    "# "
   ]
  },
  {
   "cell_type": "markdown",
   "id": "bbb01d32",
   "metadata": {},
   "source": [
    "## - Extracts the coordinates of a string"
   ]
  },
  {
   "cell_type": "markdown",
   "id": "ea067108",
   "metadata": {},
   "source": [
    "# "
   ]
  },
  {
   "cell_type": "code",
   "execution_count": 26,
   "id": "0153a9ac",
   "metadata": {},
   "outputs": [],
   "source": [
    "def extraire_mouvement(chaine):# \n",
    "    mouvement = re.search(r\"[a-h][1-8]\", chaine)\n",
    "    if mouvement:\n",
    "        return mouvement.group()\n",
    "    else:\n",
    "        return None"
   ]
  },
  {
   "cell_type": "markdown",
   "id": "a5584bca",
   "metadata": {},
   "source": [
    "# "
   ]
  },
  {
   "cell_type": "markdown",
   "id": "86a14399",
   "metadata": {},
   "source": [
    "## - Allows you to manage the final output position according to what you get in the movement list. This part is quite complicated to explain because you have to understand the PGN format first to understand. Here, we try to manage the right movement made by the AI for the copy of our Lichess tray that we save in Python.  "
   ]
  },
  {
   "cell_type": "markdown",
   "id": "465bd844",
   "metadata": {},
   "source": [
    "# "
   ]
  },
  {
   "cell_type": "code",
   "execution_count": 27,
   "id": "c31b86b2",
   "metadata": {},
   "outputs": [],
   "source": [
    "def PositionFinal(move, board, color_player, positions, piece, letter) :    \n",
    "    initial_position = \"\"\n",
    "    for i in range(len(positions)) :\n",
    "        if (color_player == \"white\" and board[ligne.index(positions[i][1])][colonne.index(positions[i][0])] != ' ' and board[ligne.index(positions[i][1])][colonne.index(positions[i][0])][0] == letter) :\n",
    "            piece = board[ligne.index(positions[i][1])][colonne.index(positions[i][0])]\n",
    "            if (len(move) == 2):\n",
    "                board[ligne.index(move[1])][colonne.index(move[0])] = piece\n",
    "            elif (len(move) == 3) :\n",
    "                board[ligne.index(move[2])][colonne.index(move[1])] = piece\n",
    "            else : \n",
    "                board[ligne.index(move[2])][colonne.index(move[1])] = piece\n",
    "            board[ligne.index(positions[i][1])][colonne.index(positions[i][0])] = ' '\n",
    "            break\n",
    "        elif (color_player == \"black\" and board[ligne.index(positions[i][1])][colonne.index(positions[i][0])] != ' ' and board[ligne.index(positions[i][1])][colonne.index(positions[i][0])][0] == letter.lower()) :\n",
    "            piece = board[ligne.index(positions[i][1])][colonne.index(positions[i][0])]\n",
    "            if (len(move) == 2):\n",
    "                board[ligne.index(move[1])][colonne.index(move[0])] = piece\n",
    "            elif (len(move) == 3) :\n",
    "                board[ligne.index(move[2])][colonne.index(move[1])] = piece\n",
    "            else : \n",
    "                board[ligne.index(move[2])][colonne.index(move[1])] = piece\n",
    "            board[ligne.index(positions[i][1])][colonne.index(positions[i][0])] = ' '\n",
    "            break\n",
    "            \n",
    "    initial_position = str(positions[i][0]) + str(positions[i][1])\n",
    "    finalmove = initial_position + extraire_mouvement(move)\n",
    "    return finalmove, board"
   ]
  },
  {
   "cell_type": "code",
   "execution_count": 28,
   "id": "2ba28743",
   "metadata": {},
   "outputs": [],
   "source": [
    "def PositionFinal4(move, board, color_player, positions, piece, letter) :    \n",
    "    initial_position = \"\"\n",
    "    depart = move[1]\n",
    "    move = move[0:1] + move[2:]\n",
    "    \n",
    "    lastposition = positions\n",
    "    positions = []\n",
    "\n",
    "    if isinstance(depart, str):\n",
    "        for element in lastposition:\n",
    "            if element.startswith(depart):\n",
    "                positions.append(element)\n",
    "    else : \n",
    "        for element in lastposition:\n",
    "            if element[1] == depart:\n",
    "                positions.append(element)\n",
    "        \n",
    "    for i in range(len(positions)) :\n",
    "        if (color_player == \"white\" and board[ligne.index(positions[i][1])][colonne.index(positions[i][0])] != ' ' and board[ligne.index(positions[i][1])][colonne.index(positions[i][0])][0] == letter) :\n",
    "            piece = board[ligne.index(positions[i][1])][colonne.index(positions[i][0])]\n",
    "            if (len(move) == 2):\n",
    "                board[ligne.index(move[1])][colonne.index(move[0])] = piece\n",
    "            elif (len(move) == 3) :\n",
    "                board[ligne.index(move[2])][colonne.index(move[1])] = piece\n",
    "            else : \n",
    "                board[ligne.index(move[2])][colonne.index(move[1])] = piece\n",
    "            board[ligne.index(positions[i][1])][colonne.index(positions[i][0])] = ' '\n",
    "            break\n",
    "        elif (color_player == \"black\" and board[ligne.index(positions[i][1])][colonne.index(positions[i][0])] != ' ' and board[ligne.index(positions[i][1])][colonne.index(positions[i][0])][0] == letter.lower()) :\n",
    "            piece = board[ligne.index(positions[i][1])][colonne.index(positions[i][0])]\n",
    "            if (len(move) == 2):\n",
    "                board[ligne.index(move[1])][colonne.index(move[0])] = piece\n",
    "            elif (len(move) == 3) :\n",
    "                board[ligne.index(move[2])][colonne.index(move[1])] = piece\n",
    "            else : \n",
    "                board[ligne.index(move[2])][colonne.index(move[1])] = piece\n",
    "            board[ligne.index(positions[i][1])][colonne.index(positions[i][0])] = ' '\n",
    "            break\n",
    "            \n",
    "    initial_position = str(positions[i][0]) + str(positions[i][1])\n",
    "    finalmove = initial_position + extraire_mouvement(move)\n",
    "    return finalmove, board"
   ]
  },
  {
   "cell_type": "code",
   "execution_count": 29,
   "id": "2473e746",
   "metadata": {},
   "outputs": [],
   "source": [
    "def PositionFinalX(move, board, color_player, positions, piece, letter) :   \n",
    "    move = move.replace(\"x\", \"\")\n",
    "    initial_position = \"\"\n",
    "    for i in range(len(positions)) :\n",
    "        if (color_player == \"white\" and board[ligne.index(positions[i][1])][colonne.index(positions[i][0])] != ' ' and board[ligne.index(positions[i][1])][colonne.index(positions[i][0])][0] == letter) :\n",
    "            piece = board[ligne.index(positions[i][1])][colonne.index(positions[i][0])]\n",
    "            if (len(move) == 2):\n",
    "                board[ligne.index(move[1])][colonne.index(move[0])] = piece\n",
    "            elif (len(move) == 3) :\n",
    "                board[ligne.index(move[2])][colonne.index(move[1])] = piece\n",
    "            else : \n",
    "                board[ligne.index(move[2])][colonne.index(move[1])] = piece\n",
    "            board[ligne.index(positions[i][1])][colonne.index(positions[i][0])] = ' '\n",
    "            break\n",
    "        elif (color_player == \"black\" and board[ligne.index(positions[i][1])][colonne.index(positions[i][0])] != ' ' and board[ligne.index(positions[i][1])][colonne.index(positions[i][0])][0] == letter.lower()) :\n",
    "            piece = board[ligne.index(positions[i][1])][colonne.index(positions[i][0])]\n",
    "            if (len(move) == 2):\n",
    "                board[ligne.index(move[1])][colonne.index(move[0])] = piece\n",
    "            elif (len(move) == 3) :\n",
    "                board[ligne.index(move[2])][colonne.index(move[1])] = piece\n",
    "            else : \n",
    "                board[ligne.index(move[2])][colonne.index(move[1])] = piece\n",
    "            board[ligne.index(positions[i][1])][colonne.index(positions[i][0])] = ' '\n",
    "            break\n",
    "            \n",
    "    initial_position = str(positions[i][0]) + str(positions[i][1])\n",
    "    finalmove = extraire_mouvement(move) + \"stock \" + initial_position + extraire_mouvement(move)\n",
    "    return finalmove, board"
   ]
  },
  {
   "cell_type": "code",
   "execution_count": 30,
   "id": "cb9b20ac",
   "metadata": {},
   "outputs": [],
   "source": [
    "def PositionFinalX4(move, board, color_player, positions, piece, letter) :    \n",
    "    move = move.replace(\"x\",\"\")\n",
    "    initial_position = \"\"\n",
    "    depart = move[2]\n",
    "    move = move[0:1] + move[2:]\n",
    "    \n",
    "    lastposition = positions\n",
    "    positions = []\n",
    "\n",
    "    if isinstance(depart, str):\n",
    "        for element in lastposition:\n",
    "            if element.startswith(depart):\n",
    "                positions.append(element)\n",
    "    else : \n",
    "        for element in lastposition:\n",
    "            if element[1] == depart:\n",
    "                positions.append(element)\n",
    "                \n",
    "    for i in range(len(positions)) :\n",
    "        if (color_player == \"white\" and board[ligne.index(positions[i][1])][colonne.index(positions[i][0])] != ' ' and board[ligne.index(positions[i][1])][colonne.index(positions[i][0])][0] == letter) :\n",
    "            piece = board[ligne.index(positions[i][1])][colonne.index(positions[i][0])]\n",
    "            if (len(move) == 2):\n",
    "                board[ligne.index(move[1])][colonne.index(move[0])] = piece\n",
    "            elif (len(move) == 3) :\n",
    "                board[ligne.index(move[2])][colonne.index(move[1])] = piece\n",
    "            else : \n",
    "                board[ligne.index(move[2])][colonne.index(move[1])] = piece\n",
    "            board[ligne.index(positions[i][1])][colonne.index(positions[i][0])] = ' '\n",
    "            break\n",
    "        elif (color_player == \"black\" and board[ligne.index(positions[i][1])][colonne.index(positions[i][0])] != ' ' and board[ligne.index(positions[i][1])][colonne.index(positions[i][0])][0] == letter.lower()) :\n",
    "            piece = board[ligne.index(positions[i][1])][colonne.index(positions[i][0])]\n",
    "            if (len(move) == 2):\n",
    "                board[ligne.index(move[1])][colonne.index(move[0])] = piece\n",
    "            elif (len(move) == 3) :\n",
    "                board[ligne.index(move[2])][colonne.index(move[1])] = piece\n",
    "            else : \n",
    "                board[ligne.index(move[2])][colonne.index(move[1])] = piece\n",
    "            board[ligne.index(positions[i][1])][colonne.index(positions[i][0])] = ' '\n",
    "            break\n",
    "            \n",
    "    initial_position = str(positions[i][0]) + str(positions[i][1])\n",
    "    finalmove = extraire_mouvement(move) + \"stock \" + initial_position + extraire_mouvement(move)\n",
    "    return finalmove, board"
   ]
  },
  {
   "cell_type": "markdown",
   "id": "7b5eb75b",
   "metadata": {},
   "source": [
    "# "
   ]
  },
  {
   "cell_type": "markdown",
   "id": "c8a6160d",
   "metadata": {},
   "source": [
    "## - Implements the ROQUE feature of the chess game"
   ]
  },
  {
   "cell_type": "markdown",
   "id": "26498270",
   "metadata": {},
   "source": [
    "# "
   ]
  },
  {
   "cell_type": "code",
   "execution_count": 31,
   "id": "812ae324",
   "metadata": {},
   "outputs": [],
   "source": [
    "def ROQUE(board, move, color_player):\n",
    "    \"\"\"\n",
    "    Fonction pour réaliser un roque (grand ou petit) en fonction de la notation FEN `O-O` (petit roque) ou `O-O-O` (grand roque)\n",
    "\n",
    "    Args:\n",
    "    - board (list): Liste de listes représentant l'état actuel du plateau de jeu.\n",
    "    - move (str): Notation FEN du roque à réaliser, soit 'O-O' pour le petit roque, soit 'O-O-O' pour le grand roque.\n",
    "\n",
    "    Returns:\n",
    "    - board (list): Liste de listes représentant le nouvel état du plateau de jeu après le roque.\n",
    "    \"\"\"\n",
    "    if move == 'O-O':\n",
    "        if (color_player == \"white\") :\n",
    "            # Vérification des conditions pour le petit roque\n",
    "            if board[0][4] == 'K' and board[0][7] == 'R2':\n",
    "                board[0][6] = 'K'\n",
    "                board[0][5] = 'R2'\n",
    "                board[0][4] = ' '\n",
    "                board[0][7] = ' '\n",
    "                return \"a8a6 a5a7\", board\n",
    "        if (color_player == \"black\") :\n",
    "                # Vérification des conditions pour le petit roque\n",
    "                if board[7][4] == 'k' and board[7][7] == 'r2':\n",
    "                    board[7][6] = 'k'\n",
    "                    board[7][5] = 'r2'\n",
    "                    board[7][4] = ' '\n",
    "                    board[7][7] = ' '\n",
    "                    return \"h8h6 h5h7\", board\n",
    "    elif move == 'O-O-O':\n",
    "        if (color_player == \"white\") :\n",
    "            # Vérification des conditions pour le grand roque\n",
    "            if board[0][4] == 'K' and board[0][0] == 'R1':\n",
    "                board[0][2] = 'K'\n",
    "                board[0][3] = 'R1'\n",
    "                board[0][4] = ' '\n",
    "                board[0][0] = ' '\n",
    "                return \"a1a4 a5a3\", board\n",
    "        if (color_player == \"black\") :\n",
    "            # Vérification des conditions pour le grand roque\n",
    "            if board[7][4] == 'k' and board[7][0] == 'r1':\n",
    "                board[7][2] = 'k'\n",
    "                board[7][3] = 'r1'\n",
    "                board[7][4] = ' '\n",
    "                board[7][0] = ' '\n",
    "                return \"h1h4 h5h3\", board\n",
    "    # Si aucun roque n'est possible, on renvoie le plateau de jeu inchangé\n",
    "    return \"\", board"
   ]
  },
  {
   "cell_type": "markdown",
   "id": "927ee50d",
   "metadata": {},
   "source": [
    "# "
   ]
  },
  {
   "cell_type": "markdown",
   "id": "94032f4b",
   "metadata": {},
   "source": [
    "## - Move possible to realize"
   ]
  },
  {
   "cell_type": "markdown",
   "id": "a77bff99",
   "metadata": {},
   "source": [
    "# "
   ]
  },
  {
   "cell_type": "code",
   "execution_count": 32,
   "id": "df485fcc",
   "metadata": {},
   "outputs": [],
   "source": [
    "def PossibleMove(move, board, color_player):\n",
    "    move = move.replace(\"+\",\"\")\n",
    "    if (len(move) == 2):\n",
    "        # Nous avons donc un pion\n",
    "        piece = 'pawn'\n",
    "        letter = 'P'\n",
    "        positions = ConversionMouv(possible_moves(piece, (ligne.index(move[1]),colonne.index(move[0])), color_player))\n",
    "        finalmove, board = PositionFinal(move, board, color_player, positions, piece, letter)\n",
    "        return finalmove, board\n",
    "    \n",
    "    elif (move == \"O-O\" or move == \"O-O-O\") :\n",
    "        finalmove, board = ROQUE(board, move, color_player)\n",
    "        return finalmove, board\n",
    "        \n",
    "    else :\n",
    "        letter = move[0]\n",
    "        if (letter == \"N\") :\n",
    "            piece = 'knight'\n",
    "        elif (letter == \"B\") :\n",
    "            piece = 'bishop'\n",
    "        elif (letter == \"R\") :\n",
    "            piece = 'rook'\n",
    "        elif (letter == \"Q\") :\n",
    "            piece = 'queen'\n",
    "        elif (letter == \"K\") :\n",
    "            piece = 'king'\n",
    "        else :\n",
    "            piece = 'pawn'\n",
    "            \n",
    "        if 'x' not in move : \n",
    "            if (len(move) == 3): \n",
    "                positions = ConversionMouv(possible_moves(piece, (ligne.index(move[2]),colonne.index(move[1])), color_player))\n",
    "                finalmove, board = PositionFinal(move, board, color_player, positions, piece, letter)\n",
    "                return finalmove, board\n",
    "            else :   \n",
    "                positions = ConversionMouv(possible_moves(piece, (ligne.index(move[3]),colonne.index(move[2])), color_player))\n",
    "                finalmove, board = PositionFinal4(move, board, color_player, positions, piece, letter)\n",
    "                return finalmove, board\n",
    "        else :\n",
    "            move = move.replace(\"x\",\"\")\n",
    "            if (len(move) == 3): \n",
    "                positions = ConversionMouv(possible_moves(piece, (ligne.index(move[2]),colonne.index(move[1])), color_player))\n",
    "                finalmove, board = PositionFinalX(move, board, color_player, positions, piece, letter)\n",
    "                return finalmove, board\n",
    "            else :   \n",
    "                positions = ConversionMouv(possible_moves(piece, (ligne.index(move[3]),colonne.index(move[2])), color_player))\n",
    "                finalmove, board = PositionFinalX4(move, board, color_player, positions, piece, letter)\n",
    "                return finalmove, board\n",
    "        return \"Error\"\n",
    "    return \"Error\"\n"
   ]
  },
  {
   "cell_type": "markdown",
   "id": "0a0479ee",
   "metadata": {},
   "source": [
    "# "
   ]
  },
  {
   "cell_type": "markdown",
   "id": "97d4ef10",
   "metadata": {},
   "source": [
    "# Code to launch a whole game with communication with an Arduino "
   ]
  },
  {
   "cell_type": "markdown",
   "id": "ac9345fd",
   "metadata": {},
   "source": [
    "# "
   ]
  },
  {
   "cell_type": "code",
   "execution_count": 33,
   "id": "0d2557e6",
   "metadata": {},
   "outputs": [],
   "source": [
    "DisplayBoard = [    [\"R1\", \"N1\", \"B1\", \"Q\", \"K\", \"B2\", \"N2\", \"R2\"],\n",
    "    [\"P1\", \"P2\", \"P3\", \"P4\", \"P5\", \"P6\", \"P7\", \"P8\"],\n",
    "    [\" \", \" \", \" \", \" \", \" \", \" \", \" \", \" \"],\n",
    "    [\" \", \" \", \" \", \" \", \" \", \" \", \" \", \" \"],\n",
    "    [\" \", \" \", \" \", \" \", \" \", \" \", \" \", \" \"],\n",
    "    [\" \", \" \", \" \", \" \", \" \", \" \", \" \", \" \"],\n",
    "    [\"p1\", \"p2\", \"p3\", \"p4\", \"p5\", \"p6\", \"p7\", \"p8\"],\n",
    "    [\"r1\", \"n1\", \"b1\", \"q\", \"k\", \"b2\", \"n2\", \"r2\"]\n",
    "]\n",
    "tour = 1\n",
    "\n",
    "def Game(DisplayBoard, tour) :\n",
    "    ser = serial.Serial('COM12', 9600) # Ouvre une connexion série à 9600 bauds\n",
    "    print(\"---------------------------------------\")\n",
    "    print(\"\\nCréation de la partie contre une IA\\n\")\n",
    "    print(\"---------------------------------------\")\n",
    "    id_game, color_player, color_enemy = CreateIA()\n",
    "    print(\"Identifiant de la game : \", id_game)\n",
    "    EndGame = False\n",
    "    \n",
    "    print(\"---------------------------------------\")\n",
    "    manuel_or_robot = input(\"Choissisez votre mode de déplacement : (manuel = M ou robot = R) => \")\n",
    "    ser.write(manuel_or_robot.encode())\n",
    "    print(\"Arduino confirmed receipt of move.\")\n",
    "    time.sleep(3)\n",
    "    print(\"---------------------------------------\")\n",
    "    \n",
    "    while (EndGame == False) :\n",
    "        if (color_player == \"white\") :\n",
    "            if (manuel_or_robot == 'R'):\n",
    "                finalmove_player, DisplayBoard = InputMove(id_game, DisplayBoard,color_player)\n",
    "                print(f\"Commande Arduino : {finalmove_player}\")\n",
    "                time.sleep(4)\n",
    "                ser.write(finalmove_player.encode())\n",
    "                print(\"Arduino confirmed receipt of move.\")\n",
    "            else : \n",
    "                ser.write(\"move\".encode())\n",
    "                print(\"Arduino confirmed receipt of move.\")\n",
    "                time.sleep(4)\n",
    "                while True:\n",
    "                    print(\"Faites votre mouvement :\")\n",
    "                    chaine = ser.readline()\n",
    "                    chaine = str(chaine)\n",
    "                    chaine = extraire_mouvement(chaine)\n",
    "                    print(chaine)\n",
    "                    if len(chaine) == 4 and chaine[0] in \"abcdefgh\" and chaine[1] in \"12345678\" and chaine[2] in \"abcdefgh\" and chaine[3] in \"12345678\":\n",
    "                        client.bots.make_move(id_game, chaine)\n",
    "                        move = chaine[2:]\n",
    "                        previousmove = chaine[:2]\n",
    "                        lastboard = DisplayBoard\n",
    "                        DisplayBoard[ligne.index(move[1])][colonne.index(move[0])] = lastboard[ligne.index(previousmove[1])][colonne.index(previousmove[0])]\n",
    "                        DisplayBoard[ligne.index(previousmove[1])][colonne.index(previousmove[0])] = ' '\n",
    "                        break\n",
    "            time.sleep(4)\n",
    "            print(\"\\n\\n\", display_board(DisplayBoard), \"\\n\\n\")\n",
    "            time.sleep(7)\n",
    "            ListMove = LiveMove(id_game)    \n",
    "            if any(result in ListMove for result in [\"0-1\", \"1-0\", \"0,5-0,5\", \"1/2-1/2\"]):\n",
    "                EndGame = True\n",
    "                break\n",
    "            move = MouvEnnemy(tour, color_player, ListMove)\n",
    "            finalmove, DisplayBoard = PossibleMove(move, DisplayBoard, color_enemy)\n",
    "            print(f\"\\nEnnemy movement : {finalmove}\\n\")\n",
    "            time.sleep(4)\n",
    "            ser.write(finalmove.encode())\n",
    "            print(\"Arduino confirmed receipt of move.\")\n",
    "            time.sleep(4)\n",
    "            print(\"\\n\\n\", display_board(DisplayBoard), \"\\n\\n\")\n",
    "            time.sleep(7)\n",
    "        else :\n",
    "            time.sleep(7)\n",
    "            ListMove = LiveMove(id_game)\n",
    "            move = MouvEnnemy(tour, color_player, ListMove)\n",
    "            finalmove, DisplayBoard = PossibleMove(move, DisplayBoard, color_enemy)\n",
    "            print(f\"\\nEnnemy movement : {finalmove}\\n\")\n",
    "            time.sleep(4)\n",
    "            ser.write(finalmove.encode())\n",
    "            print(\"Arduino confirmed receipt of move.\")\n",
    "            time.sleep(4)\n",
    "            print(\"\\n\\n\", display_board(DisplayBoard), \"\\n\\n\")\n",
    "            time.sleep(7)\n",
    "            ListMove = LiveMove(id_game)    \n",
    "            if any(result in ListMove for result in [\"0-1\", \"1-0\", \"0,5-0,5\", \"1/2-1/2\"]):\n",
    "                EndGame = True\n",
    "                break\n",
    "            if (manuel_or_robot == 'R'):\n",
    "                finalmove_player, DisplayBoard = InputMove(id_game, DisplayBoard,color_player)\n",
    "                print(f\"Commande Arduino : {finalmove_player}\")\n",
    "                time.sleep(4)\n",
    "                ser.write(finalmove_player.encode())\n",
    "                print(\"Arduino confirmed receipt of move.\")\n",
    "            else : \n",
    "                ser.write(\"move\".encode())\n",
    "                print(\"Arduino confirmed receipt of move.\")\n",
    "                time.sleep(4)\n",
    "                while True:\n",
    "                    print(\"Faites votre mouvement :\")# \n",
    "                    chaine = ser.readline()\n",
    "                    chaine = str(chaine)\n",
    "                    chaine = extraire_mouvement(chaine)\n",
    "                    print(chaine)\n",
    "                    if len(chaine) == 4 and chaine[0] in \"abcdefgh\" and chaine[1] in \"12345678\" and chaine[2] in \"abcdefgh\" and chaine[3] in \"12345678\":\n",
    "                        client.bots.make_move(id_game, chaine)\n",
    "                        move = chaine[2:]\n",
    "                        previousmove = chaine[:2]\n",
    "                        lastboard = DisplayBoard\n",
    "                        DisplayBoard[ligne.index(move[1])][colonne.index(move[0])] = lastboard[ligne.index(previousmove[1])][colonne.index(previousmove[0])]\n",
    "                        DisplayBoard[ligne.index(previousmove[1])][colonne.index(previousmove[0])] = ' '\n",
    "                        break\n",
    "            time.sleep(4)\n",
    "            print(\"\\n\\n\", display_board(DisplayBoard), \"\\n\\n\")\n",
    "            time.sleep(7)\n",
    "            \n",
    "        ListMove = LiveMove(id_game)    \n",
    "        if any(result in ListMove for result in [\"0-1\", \"1-0\", \"0,5-0,5\", \"1/2-1/2\"]):\n",
    "            EndGame = True\n",
    "        \n",
    "        tour = tour + 1\n",
    "    \n",
    "    ser.close()\n",
    "    print(\"\\n\\n---------------\")\n",
    "    print(\"Fin de la game.\")\n",
    "    print(\"---------------\\n\\n\")\n",
    "    if \"0-1\" in ListMove:\n",
    "        print(\"\\nVictoire des noirs\")\n",
    "    elif \"1-0\" in ListMove: \n",
    "        print(\"\\nVictoire des blancs\")\n",
    "    else :\n",
    "        print(\"\\nMatch Nul\")\n",
    "    \n",
    "    print(f\"\\n\\nNombre de tours joués : {tour}\")\n",
    "        \n",
    "\n",
    "    \n",
    "        \n",
    "        "
   ]
  },
  {
   "cell_type": "code",
   "execution_count": 34,
   "id": "7f1a3525",
   "metadata": {},
   "outputs": [],
   "source": [
    "DisplayBoard = [    [\"R1\", \"N1\", \"B1\", \"Q\", \"K\", \"B2\", \"N2\", \"R2\"],\n",
    "    [\"P1\", \"P2\", \"P3\", \"P4\", \"P5\", \"P6\", \"P7\", \"P8\"],\n",
    "    [\" \", \" \", \" \", \" \", \" \", \" \", \" \", \" \"],\n",
    "    [\" \", \" \", \" \", \" \", \" \", \" \", \" \", \" \"],\n",
    "    [\" \", \" \", \" \", \" \", \" \", \" \", \" \", \" \"],\n",
    "    [\" \", \" \", \" \", \" \", \" \", \" \", \" \", \" \"],\n",
    "    [\"p1\", \"p2\", \"p3\", \"p4\", \"p5\", \"p6\", \"p7\", \"p8\"],\n",
    "    [\"r1\", \"n1\", \"b1\", \"q\", \"k\", \"b2\", \"n2\", \"r2\"]\n",
    "]\n",
    "tour = 1\n",
    "\n",
    "def Game(DisplayBoard, tour) :\n",
    "    ser = serial.Serial('COM12', 9600) # Ouvre une connexion série à 9600 bauds\n",
    "    print(\"---------------------------------------\")\n",
    "    print(\"\\nCréation de la partie contre une IA\\n\")\n",
    "    print(\"---------------------------------------\")\n",
    "    id_game, color_player, color_enemy = CreateIA()\n",
    "    print(\"Identifiant de la game : \", id_game)\n",
    "    EndGame = False\n",
    "    \n",
    "    print(\"---------------------------------------\")\n",
    "    manuel_or_robot = input(\"Choissisez votre mode de déplacement : (manuel = M ou robot = R) => \")\n",
    "    ser.write(manuel_or_robot.encode())\n",
    "    print(\"Arduino confirmed receipt of move.\")\n",
    "    time.sleep(3)\n",
    "    print(\"---------------------------------------\")\n",
    "    \n",
    "    while (EndGame == False) :\n",
    "        if (color_player == \"white\") :\n",
    "            if (manuel_or_robot == 'R'):\n",
    "                finalmove_player, DisplayBoard = InputMove(id_game, DisplayBoard,color_player)\n",
    "                print(f\"Commande Arduino : {finalmove_player}\")\n",
    "                time.sleep(4)\n",
    "                ser.write(finalmove_player.encode())\n",
    "                print(\"Arduino confirmed receipt of move.\")\n",
    "            else : \n",
    "                ser.write(\"move\".encode())\n",
    "                print(\"Arduino confirmed receipt of move.\")\n",
    "                time.sleep(4)\n",
    "                while True:\n",
    "                    print(\"Faites votre mouvement :\")\n",
    "                    chaine = ser.readline()\n",
    "                    chaine = str(chaine)\n",
    "                    print(chaine)\n",
    "                    chaine = extraire_mouvement(chaine)\n",
    "                    print(chaine)\n",
    "                    if len(chaine) == 4 and chaine[0] in \"abcdefgh\" and chaine[1] in \"12345678\" and chaine[2] in \"abcdefgh\" and chaine[3] in \"12345678\":\n",
    "                        client.bots.make_move(id_game, chaine)\n",
    "                        move = chaine[2:]\n",
    "                        previousmove = chaine[:2]\n",
    "                        lastboard = DisplayBoard\n",
    "                        DisplayBoard[ligne.index(move[1])][colonne.index(move[0])] = lastboard[ligne.index(previousmove[1])][colonne.index(previousmove[0])]\n",
    "                        DisplayBoard[ligne.index(previousmove[1])][colonne.index(previousmove[0])] = ' '\n",
    "                        break\n",
    "            time.sleep(4)\n",
    "            print(\"\\n\\n\", display_board(DisplayBoard), \"\\n\\n\")\n",
    "            time.sleep(7)\n",
    "            ListMove = LiveMove(id_game)    \n",
    "            if any(result in ListMove for result in [\"0-1\", \"1-0\", \"0,5-0,5\", \"1/2-1/2\"]):\n",
    "                EndGame = True\n",
    "                break\n",
    "            move = MouvEnnemy(tour, color_player, ListMove)\n",
    "            finalmove, DisplayBoard = PossibleMove(move, DisplayBoard, color_enemy)\n",
    "            print(f\"\\nEnnemy movement : {finalmove}\\n\")\n",
    "            time.sleep(4)\n",
    "            ser.write(finalmove.encode())\n",
    "            print(\"Arduino confirmed receipt of move.\")\n",
    "            time.sleep(4)\n",
    "            print(\"\\n\\n\", display_board(DisplayBoard), \"\\n\\n\")\n",
    "            time.sleep(7)\n",
    "        else :\n",
    "            time.sleep(7)\n",
    "            ListMove = LiveMove(id_game)\n",
    "            move = MouvEnnemy(tour, color_player, ListMove)\n",
    "            finalmove, DisplayBoard = PossibleMove(move, DisplayBoard, color_enemy)\n",
    "            print(f\"\\nEnnemy movement : {finalmove}\\n\")\n",
    "            time.sleep(4)\n",
    "            ser.write(finalmove.encode())\n",
    "            print(\"Arduino confirmed receipt of move.\")\n",
    "            time.sleep(4)\n",
    "            print(\"\\n\\n\", display_board(DisplayBoard), \"\\n\\n\")\n",
    "            time.sleep(7)\n",
    "            ListMove = LiveMove(id_game)    \n",
    "            if any(result in ListMove for result in [\"0-1\", \"1-0\", \"0,5-0,5\", \"1/2-1/2\"]):\n",
    "                EndGame = True\n",
    "                break\n",
    "            if (manuel_or_robot == 'R'):\n",
    "                finalmove_player, DisplayBoard = InputMove(id_game, DisplayBoard,color_player)\n",
    "                print(f\"Commande Arduino : {finalmove_player}\")\n",
    "                time.sleep(4)\n",
    "                ser.write(finalmove_player.encode())\n",
    "                print(\"Arduino confirmed receipt of move.\")\n",
    "            else : \n",
    "                ser.write(\"move\".encode())\n",
    "                print(\"Arduino confirmed receipt of move.\")\n",
    "                time.sleep(4)\n",
    "                while True:\n",
    "                    print(\"Faites votre mouvement :\")\n",
    "                    chaine = ser.readline()\n",
    "                    chaine = str(chaine)\n",
    "                    chaine = extraire_mouvement(chaine)\n",
    "                    print(chaine)\n",
    "                    if len(chaine) == 4 and chaine[0] in \"abcdefgh\" and chaine[1] in \"12345678\" and chaine[2] in \"abcdefgh\" and chaine[3] in \"12345678\":\n",
    "                        client.bots.make_move(id_game, chaine)\n",
    "                        move = chaine[2:]\n",
    "                        previousmove = chaine[:2]\n",
    "                        lastboard = DisplayBoard\n",
    "                        DisplayBoard[ligne.index(move[1])][colonne.index(move[0])] = lastboard[ligne.index(previousmove[1])][colonne.index(previousmove[0])]\n",
    "                        DisplayBoard[ligne.index(previousmove[1])][colonne.index(previousmove[0])] = ' '\n",
    "                        break\n",
    "            time.sleep(4)\n",
    "            print(\"\\n\\n\", display_board(DisplayBoard), \"\\n\\n\")\n",
    "            time.sleep(7)\n",
    "            \n",
    "        ListMove = LiveMove(id_game)    \n",
    "        if any(result in ListMove for result in [\"0-1\", \"1-0\", \"0,5-0,5\", \"1/2-1/2\"]):\n",
    "            EndGame = True\n",
    "        \n",
    "        tour = tour + 1\n",
    "    \n",
    "    ser.close()\n",
    "    print(\"\\n\\n---------------\")\n",
    "    print(\"Fin de la game.\")\n",
    "    print(\"---------------\\n\\n\")\n",
    "    if \"0-1\" in ListMove:\n",
    "        print(\"\\nVictoire des noirs\")\n",
    "    elif \"1-0\" in ListMove: \n",
    "        print(\"\\nVictoire des blancs\")\n",
    "    else :\n",
    "        print(\"\\nMatch Nul\")\n",
    "    \n",
    "    print(f\"\\n\\nNombre de tours joués : {tour}\")\n",
    "        \n",
    "\n",
    "    \n",
    "        \n",
    "        "
   ]
  },
  {
   "cell_type": "markdown",
   "id": "cfa2d5e0",
   "metadata": {},
   "source": [
    "# "
   ]
  },
  {
   "cell_type": "markdown",
   "id": "62c0c4f7",
   "metadata": {},
   "source": [
    "# Launch of the Game"
   ]
  },
  {
   "cell_type": "markdown",
   "id": "69fe5505",
   "metadata": {},
   "source": [
    "# "
   ]
  },
  {
   "cell_type": "code",
   "execution_count": 35,
   "id": "2840e306",
   "metadata": {},
   "outputs": [
    {
     "name": "stdout",
     "output_type": "stream",
     "text": [
      "a2\n"
     ]
    }
   ],
   "source": [
    "s= str(b'a2a4\\r\\n')\n",
    "print(extraire_mouvement(s))"
   ]
  },
  {
   "cell_type": "code",
   "execution_count": null,
   "id": "ca9082dd",
   "metadata": {
    "scrolled": false
   },
   "outputs": [
    {
     "name": "stdout",
     "output_type": "stream",
     "text": [
      "---------------------------------------\n",
      "\n",
      "Création de la partie contre une IA\n",
      "\n",
      "---------------------------------------\n",
      "Saisir le niveau de difficulté de l'IA (1 à 8) : 1\n",
      "\n",
      "IA de difficulté 1/8.\n",
      "\n",
      "Saisir la couleur du joueur (white or black): white\n",
      "\n",
      "Vous avez choisi la couleur : white.\n",
      "\n",
      "Création de la game contre l'IA\n",
      "Identifiant de la game :  XVR87Ehy\n",
      "---------------------------------------\n",
      "Choissisez votre mode de déplacement : (manuel = M ou robot = R) => R\n",
      "Arduino confirmed receipt of move.\n",
      "---------------------------------------\n",
      "Saisir la position du mouvement (ex: e2e4 ou g8f6) : a2a4\n",
      "\n",
      "\n",
      "Commande Arduino : a2a4\n",
      "Arduino confirmed receipt of move.\n",
      "  A  B  C  D  E  F  G  H\n",
      "8 R1 N1 B1 Q  K  B2 N2 R2 \n",
      "7    P2 P3 P4 P5 P6 P7 P8 \n",
      "6                         \n",
      "5 P1                      \n",
      "4                         \n",
      "3                         \n",
      "2 p1 p2 p3 p4 p5 p6 p7 p8 \n",
      "1 r1 n1 b1 q  k  b2 n2 r2 \n",
      "  A  B  C  D  E  F  G  H\n",
      "\n",
      "\n",
      " None \n",
      "\n",
      "\n",
      "\n",
      "Ennemy movement : d7d5\n",
      "\n",
      "Arduino confirmed receipt of move.\n",
      "  A  B  C  D  E  F  G  H\n",
      "8 R1 N1 B1 Q  K  B2 N2 R2 \n",
      "7    P2 P3 P4 P5 P6 P7 P8 \n",
      "6                         \n",
      "5 P1                      \n",
      "4          p4             \n",
      "3                         \n",
      "2 p1 p2 p3    p5 p6 p7 p8 \n",
      "1 r1 n1 b1 q  k  b2 n2 r2 \n",
      "  A  B  C  D  E  F  G  H\n",
      "\n",
      "\n",
      " None \n",
      "\n",
      "\n",
      "Saisir la position du mouvement (ex: e2e4 ou g8f6) : b2b4\n",
      "\n",
      "\n",
      "Commande Arduino : b2b4\n",
      "Arduino confirmed receipt of move.\n",
      "  A  B  C  D  E  F  G  H\n",
      "8 R1 N1 B1 Q  K  B2 N2 R2 \n",
      "7       P3 P4 P5 P6 P7 P8 \n",
      "6                         \n",
      "5 P1 P2                   \n",
      "4          p4             \n",
      "3                         \n",
      "2 p1 p2 p3    p5 p6 p7 p8 \n",
      "1 r1 n1 b1 q  k  b2 n2 r2 \n",
      "  A  B  C  D  E  F  G  H\n",
      "\n",
      "\n",
      " None \n",
      "\n",
      "\n",
      "\n",
      "Ennemy movement : b8c6\n",
      "\n",
      "Arduino confirmed receipt of move.\n",
      "  A  B  C  D  E  F  G  H\n",
      "8 R1 N1 B1 Q  K  B2 N2 R2 \n",
      "7       P3 P4 P5 P6 P7 P8 \n",
      "6                         \n",
      "5 P1 P2                   \n",
      "4          p4             \n",
      "3       n1                \n",
      "2 p1 p2 p3    p5 p6 p7 p8 \n",
      "1 r1    b1 q  k  b2 n2 r2 \n",
      "  A  B  C  D  E  F  G  H\n",
      "\n",
      "\n",
      " None \n",
      "\n",
      "\n",
      "Saisir la position du mouvement (ex: e2e4 ou g8f6) : c2c4\n",
      "\n",
      "\n",
      "Commande Arduino : c2c4\n",
      "Arduino confirmed receipt of move.\n",
      "  A  B  C  D  E  F  G  H\n",
      "8 R1 N1 B1 Q  K  B2 N2 R2 \n",
      "7          P4 P5 P6 P7 P8 \n",
      "6                         \n",
      "5 P1 P2 P3                \n",
      "4          p4             \n",
      "3       n1                \n",
      "2 p1 p2 p3    p5 p6 p7 p8 \n",
      "1 r1    b1 q  k  b2 n2 r2 \n",
      "  A  B  C  D  E  F  G  H\n",
      "\n",
      "\n",
      " None \n",
      "\n",
      "\n",
      "\n",
      "Ennemy movement : c4stock b5c4\n",
      "\n",
      "Arduino confirmed receipt of move.\n",
      "  A  B  C  D  E  F  G  H\n",
      "8 R1 N1 B1 Q  K  B2 N2 R2 \n",
      "7          P4 P5 P6 P7 P8 \n",
      "6                         \n",
      "5 P1 P2 P3                \n",
      "4          p4             \n",
      "3       n1                \n",
      "2 p1 p2 p3    p5 p6 p7 p8 \n",
      "1 r1    b1 q  k  b2 n2 r2 \n",
      "  A  B  C  D  E  F  G  H\n",
      "\n",
      "\n",
      " None \n",
      "\n",
      "\n"
     ]
    }
   ],
   "source": [
    "DisplayBoard = [    [\"R1\", \"N1\", \"B1\", \"Q\", \"K\", \"B2\", \"N2\", \"R2\"],\n",
    "    [\"P1\", \"P2\", \"P3\", \"P4\", \"P5\", \"P6\", \"P7\", \"P8\"],\n",
    "    [\" \", \" \", \" \", \" \", \" \", \" \", \" \", \" \"],\n",
    "    [\" \", \" \", \" \", \" \", \" \", \" \", \" \", \" \"],\n",
    "    [\" \", \" \", \" \", \" \", \" \", \" \", \" \", \" \"],\n",
    "    [\" \", \" \", \" \", \" \", \" \", \" \", \" \", \" \"],\n",
    "    [\"p1\", \"p2\", \"p3\", \"p4\", \"p5\", \"p6\", \"p7\", \"p8\"],\n",
    "    [\"r1\", \"n1\", \"b1\", \"q\", \"k\", \"b2\", \"n2\", \"r2\"]\n",
    "]\n",
    "tour = 1\n",
    "\n",
    "Game(DisplayBoard, tour)"
   ]
  },
  {
   "cell_type": "markdown",
   "id": "2856b91e",
   "metadata": {},
   "source": [
    "# "
   ]
  },
  {
   "cell_type": "markdown",
   "id": "67361f49",
   "metadata": {},
   "source": [
    "# "
   ]
  },
  {
   "cell_type": "markdown",
   "id": "137ede46",
   "metadata": {},
   "source": [
    "# "
   ]
  },
  {
   "cell_type": "markdown",
   "id": "73a0370d",
   "metadata": {},
   "source": [
    "# "
   ]
  },
  {
   "cell_type": "markdown",
   "id": "2df76743",
   "metadata": {},
   "source": [
    "# "
   ]
  },
  {
   "cell_type": "markdown",
   "id": "15866824",
   "metadata": {},
   "source": [
    "## Trash can with useful codes that have been evolved or abandoned"
   ]
  },
  {
   "cell_type": "raw",
   "id": "b61c7bf6",
   "metadata": {},
   "source": [
    "DisplayBoard = [    [\"R1\", \"N1\", \"B1\", \"Q\", \"K\", \"B2\", \"N2\", \"R2\"],\n",
    "    [\"P1\", \"P2\", \"P3\", \"P4\", \"P5\", \"P6\", \"P7\", \"P8\"],\n",
    "    [\" \", \" \", \" \", \" \", \" \", \" \", \" \", \" \"],\n",
    "    [\" \", \" \", \" \", \" \", \" \", \" \", \" \", \" \"],\n",
    "    [\" \", \" \", \" \", \" \", \" \", \" \", \" \", \" \"],\n",
    "    [\" \", \" \", \" \", \" \", \" \", \" \", \" \", \" \"],\n",
    "    [\"p1\", \"p2\", \"p3\", \"p4\", \"p5\", \"p6\", \"p7\", \"p8\"],\n",
    "    [\"r1\", \"n1\", \"b1\", \"q\", \"k\", \"b2\", \"n2\", \"r2\"]\n",
    "]\n",
    "tour = 1\n",
    "\n",
    "def Game(DisplayBoard, tour) :\n",
    "    ser = serial.Serial('COM3', 9600) # Ouvre une connexion série à 9600 bauds\n",
    "    print(\"---------------------------------------\")\n",
    "    print(\"\\nCréation de la partie contre une IA\\n\")\n",
    "    print(\"---------------------------------------\")\n",
    "    id_game, color_player, color_enemy = CreateIA()\n",
    "    print(\"Identifiant de la game : \", id_game)\n",
    "    EndGame = False\n",
    "    \n",
    "    while (EndGame == False) :\n",
    "        if (color_player == \"white\") :\n",
    "            finalmove_player, DisplayBoard = InputMove(id_game, DisplayBoard,color_player)\n",
    "            print(f\"Commande Arduino : {finalmove_player}\")\n",
    "            time.sleep(4)\n",
    "            ser.write(finalmove_player.encode())\n",
    "            time.sleep(4)\n",
    "            print(\"\\n\\n\", display_board(DisplayBoard), \"\\n\\n\")\n",
    "            time.sleep(7)\n",
    "            ListMove = LiveMove(id_game)    \n",
    "            if any(result in ListMove for result in [\"0-1\", \"1-0\", \"0,5-0,5\", \"1/2-1/2\"]):\n",
    "                EndGame = True\n",
    "                break\n",
    "            move = MouvEnnemy(tour, color_player, ListMove)\n",
    "            finalmove, DisplayBoard = PossibleMove(move, DisplayBoard, color_enemy)\n",
    "            print(f\"\\nEnnemy movement : {finalmove}\\n\")\n",
    "            time.sleep(4)\n",
    "            ser.write(finalmove.encode())\n",
    "            time.sleep(4)\n",
    "            print(\"\\n\\n\", display_board(DisplayBoard), \"\\n\\n\")\n",
    "            time.sleep(7)\n",
    "        else :\n",
    "            time.sleep(7)\n",
    "            ListMove = LiveMove(id_game)\n",
    "            move = MouvEnnemy(tour, color_player, ListMove)\n",
    "            finalmove, DisplayBoard = PossibleMove(move, DisplayBoard, color_enemy)\n",
    "            print(f\"\\nEnnemy movement : {finalmove}\\n\")\n",
    "            time.sleep(4)\n",
    "            ser.write(finalmove.encode())\n",
    "            time.sleep(4)\n",
    "            print(\"\\n\\n\", display_board(DisplayBoard), \"\\n\\n\")\n",
    "            time.sleep(7)\n",
    "            ListMove = LiveMove(id_game)    \n",
    "            if any(result in ListMove for result in [\"0-1\", \"1-0\", \"0,5-0,5\", \"1/2-1/2\"]):\n",
    "                EndGame = True\n",
    "                break\n",
    "            finalmove_player, DisplayBoard = InputMove(id_game, DisplayBoard, color_player)\n",
    "            time.sleep(4)\n",
    "            ser.write(finalmove_player.encode())\n",
    "            time.sleep(4)\n",
    "            print(\"\\n\\n\", display_board(DisplayBoard), \"\\n\\n\")\n",
    "            time.sleep(7)\n",
    "            \n",
    "        ListMove = LiveMove(id_game)    \n",
    "        if any(result in ListMove for result in [\"0-1\", \"1-0\", \"0,5-0,5\", \"1/2-1/2\"]):\n",
    "            EndGame = True\n",
    "        \n",
    "        tour = tour + 1\n",
    "    \n",
    "    ser.close()\n",
    "    print(\"\\n\\n---------------\")\n",
    "    print(\"Fin de la game.\")\n",
    "    print(\"---------------\\n\\n\")\n",
    "    if \"0-1\" in ListMove:\n",
    "        print(\"\\nVictoire des noirs\")\n",
    "    elif \"1-0\" in ListMove: \n",
    "        print(\"\\nVictoire des blancs\")\n",
    "    else :\n",
    "        print(\"\\nMatch Nul\")\n",
    "    \n",
    "    print(f\"\\n\\nNombre de tours joués : {tour}\")   "
   ]
  },
  {
   "cell_type": "raw",
   "id": "a6d8a0ad",
   "metadata": {},
   "source": [
    "DisplayBoard = [    [\"R1\", \"N1\", \"B1\", \"Q\", \"K\", \"B2\", \"N2\", \"R2\"],\n",
    "    [\"P1\", \"P2\", \"P3\", \"P4\", \"P5\", \"P6\", \"P7\", \"P8\"],\n",
    "    [\" \", \" \", \" \", \" \", \" \", \" \", \" \", \" \"],\n",
    "    [\" \", \" \", \" \", \" \", \" \", \" \", \" \", \" \"],\n",
    "    [\" \", \" \", \" \", \" \", \" \", \" \", \" \", \" \"],\n",
    "    [\" \", \" \", \" \", \" \", \" \", \" \", \" \", \" \"],\n",
    "    [\"p1\", \"p2\", \"p3\", \"p4\", \"p5\", \"p6\", \"p7\", \"p8\"],\n",
    "    [\"r1\", \"n1\", \"b1\", \"q\", \"k\", \"b2\", \"n2\", \"r2\"]\n",
    "]\n",
    "tour = 1\n",
    "\n",
    "def Game(DisplayBoard, tour) :\n",
    "    print(\"---------------------------------------\")\n",
    "    print(\"\\nCréation de la partie contre une IA\\n\")\n",
    "    print(\"---------------------------------------\")\n",
    "    id_game, color_player, color_enemy = CreateIA()\n",
    "    print(\"Identifiant de la game : \", id_game)\n",
    "    EndGame = False\n",
    "    while (EndGame == False) :\n",
    "        if (color_player == \"white\") :\n",
    "            finalmove_player, DisplayBoard = InputMove(id_game, DisplayBoard,color_player)\n",
    "            print(f\"Commande Arduino : {finalmove_player}\")\n",
    "            print(\"\\n\\n\", display_board(DisplayBoard), \"\\n\\n\")\n",
    "            time.sleep(7)\n",
    "            ListMove = LiveMove(id_game)    \n",
    "            if any(result in ListMove for result in [\"0-1\", \"1-0\", \"0,5-0,5\", \"1/2-1/2\"]):\n",
    "                EndGame = True\n",
    "                break\n",
    "            move = MouvEnnemy(tour, color_player, ListMove)\n",
    "            finalmove, DisplayBoard = PossibleMove(move, DisplayBoard, color_enemy)\n",
    "            print(f\"\\nEnnemy movement : {finalmove}\\n\")\n",
    "            print(\"\\n\\n\", display_board(DisplayBoard), \"\\n\\n\")\n",
    "            time.sleep(7)\n",
    "        else :\n",
    "            time.sleep(7)\n",
    "            ListMove = LiveMove(id_game)\n",
    "            move = MouvEnnemy(tour, color_player, ListMove)\n",
    "            finalmove, DisplayBoard = PossibleMove(move, DisplayBoard, color_enemy)\n",
    "            print(f\"\\nEnnemy movement : {finalmove}\\n\")\n",
    "            print(\"\\n\\n\", display_board(DisplayBoard), \"\\n\\n\")\n",
    "            time.sleep(7)\n",
    "            ListMove = LiveMove(id_game)    \n",
    "            if any(result in ListMove for result in [\"0-1\", \"1-0\", \"0,5-0,5\", \"1/2-1/2\"]):\n",
    "                EndGame = True\n",
    "                break\n",
    "            finalmove_player, DisplayBoard = InputMove(id_game, DisplayBoard, color_player)\n",
    "            print(\"\\n\\n\", display_board(DisplayBoard), \"\\n\\n\")\n",
    "            time.sleep(7)\n",
    "            \n",
    "        ListMove = LiveMove(id_game)    \n",
    "        if any(result in ListMove for result in [\"0-1\", \"1-0\", \"0,5-0,5\", \"1/2-1/2\"]):\n",
    "            EndGame = True\n",
    "        \n",
    "        tour = tour + 1\n",
    "    \n",
    "    ListMove = LiveMove(id_game) \n",
    "    print(\"\\n\\n---------------\")\n",
    "    print(\"Fin de la game.\")\n",
    "    print(\"---------------\\n\\n\")\n",
    "    if \"0-1\" in ListMove:\n",
    "        print(\"\\nVictoire des noirs\")\n",
    "    elif \"1-0\" in ListMove: \n",
    "        print(\"\\nVictoire des blancs\")\n",
    "    else :\n",
    "        print(\"\\nMatch Nul\")\n",
    "    \n",
    "    print(f\"\\n\\nNombre de tours joués : {tour}\")    "
   ]
  }
 ],
 "metadata": {
  "kernelspec": {
   "display_name": "Python 3 (ipykernel)",
   "language": "python",
   "name": "python3"
  },
  "language_info": {
   "codemirror_mode": {
    "name": "ipython",
    "version": 3
   },
   "file_extension": ".py",
   "mimetype": "text/x-python",
   "name": "python",
   "nbconvert_exporter": "python",
   "pygments_lexer": "ipython3",
   "version": "3.9.13"
  }
 },
 "nbformat": 4,
 "nbformat_minor": 5
}
